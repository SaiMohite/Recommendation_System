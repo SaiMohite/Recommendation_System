{
 "cells": [
  {
   "cell_type": "code",
   "execution_count": 1,
   "id": "3dabb3e1-83a8-497b-85a2-c977a7eaa083",
   "metadata": {},
   "outputs": [],
   "source": [
    "import pandas as pd"
   ]
  },
  {
   "cell_type": "code",
   "execution_count": 4,
   "id": "02019294-6c1c-468f-93c6-1a9605e36540",
   "metadata": {},
   "outputs": [],
   "source": [
    "# Load the datasets\n",
    "anime_df = pd.read_csv(r\"C:\\Users\\shashi\\Downloads\\anime.csv\")\n",
    "rating_df = pd.read_csv(r\"C:\\Users\\shashi\\Downloads\\anime_rating.csv\")"
   ]
  },
  {
   "cell_type": "code",
   "execution_count": 6,
   "id": "36595c82-0c99-4772-b67b-0e7028b23d8f",
   "metadata": {},
   "outputs": [
    {
     "data": {
      "text/html": [
       "<div>\n",
       "<style scoped>\n",
       "    .dataframe tbody tr th:only-of-type {\n",
       "        vertical-align: middle;\n",
       "    }\n",
       "\n",
       "    .dataframe tbody tr th {\n",
       "        vertical-align: top;\n",
       "    }\n",
       "\n",
       "    .dataframe thead th {\n",
       "        text-align: right;\n",
       "    }\n",
       "</style>\n",
       "<table border=\"1\" class=\"dataframe\">\n",
       "  <thead>\n",
       "    <tr style=\"text-align: right;\">\n",
       "      <th></th>\n",
       "      <th>anime_id</th>\n",
       "      <th>name</th>\n",
       "      <th>genre</th>\n",
       "      <th>type</th>\n",
       "      <th>episodes</th>\n",
       "      <th>rating</th>\n",
       "      <th>members</th>\n",
       "    </tr>\n",
       "  </thead>\n",
       "  <tbody>\n",
       "    <tr>\n",
       "      <th>0</th>\n",
       "      <td>32281</td>\n",
       "      <td>Kimi no Na wa.</td>\n",
       "      <td>Drama, Romance, School, Supernatural</td>\n",
       "      <td>Movie</td>\n",
       "      <td>1</td>\n",
       "      <td>9.37</td>\n",
       "      <td>200630</td>\n",
       "    </tr>\n",
       "    <tr>\n",
       "      <th>1</th>\n",
       "      <td>5114</td>\n",
       "      <td>Fullmetal Alchemist: Brotherhood</td>\n",
       "      <td>Action, Adventure, Drama, Fantasy, Magic, Mili...</td>\n",
       "      <td>TV</td>\n",
       "      <td>64</td>\n",
       "      <td>9.26</td>\n",
       "      <td>793665</td>\n",
       "    </tr>\n",
       "    <tr>\n",
       "      <th>2</th>\n",
       "      <td>28977</td>\n",
       "      <td>Gintama°</td>\n",
       "      <td>Action, Comedy, Historical, Parody, Samurai, S...</td>\n",
       "      <td>TV</td>\n",
       "      <td>51</td>\n",
       "      <td>9.25</td>\n",
       "      <td>114262</td>\n",
       "    </tr>\n",
       "    <tr>\n",
       "      <th>3</th>\n",
       "      <td>9253</td>\n",
       "      <td>Steins;Gate</td>\n",
       "      <td>Sci-Fi, Thriller</td>\n",
       "      <td>TV</td>\n",
       "      <td>24</td>\n",
       "      <td>9.17</td>\n",
       "      <td>673572</td>\n",
       "    </tr>\n",
       "    <tr>\n",
       "      <th>4</th>\n",
       "      <td>9969</td>\n",
       "      <td>Gintama&amp;#039;</td>\n",
       "      <td>Action, Comedy, Historical, Parody, Samurai, S...</td>\n",
       "      <td>TV</td>\n",
       "      <td>51</td>\n",
       "      <td>9.16</td>\n",
       "      <td>151266</td>\n",
       "    </tr>\n",
       "  </tbody>\n",
       "</table>\n",
       "</div>"
      ],
      "text/plain": [
       "   anime_id                              name  \\\n",
       "0     32281                    Kimi no Na wa.   \n",
       "1      5114  Fullmetal Alchemist: Brotherhood   \n",
       "2     28977                          Gintama°   \n",
       "3      9253                       Steins;Gate   \n",
       "4      9969                     Gintama&#039;   \n",
       "\n",
       "                                               genre   type episodes  rating  \\\n",
       "0               Drama, Romance, School, Supernatural  Movie        1    9.37   \n",
       "1  Action, Adventure, Drama, Fantasy, Magic, Mili...     TV       64    9.26   \n",
       "2  Action, Comedy, Historical, Parody, Samurai, S...     TV       51    9.25   \n",
       "3                                   Sci-Fi, Thriller     TV       24    9.17   \n",
       "4  Action, Comedy, Historical, Parody, Samurai, S...     TV       51    9.16   \n",
       "\n",
       "   members  \n",
       "0   200630  \n",
       "1   793665  \n",
       "2   114262  \n",
       "3   673572  \n",
       "4   151266  "
      ]
     },
     "execution_count": 6,
     "metadata": {},
     "output_type": "execute_result"
    }
   ],
   "source": [
    "anime_df.head()"
   ]
  },
  {
   "cell_type": "code",
   "execution_count": 8,
   "id": "e3635dc7-8b2f-4341-8d65-689e94529f57",
   "metadata": {},
   "outputs": [
    {
     "data": {
      "text/html": [
       "<div>\n",
       "<style scoped>\n",
       "    .dataframe tbody tr th:only-of-type {\n",
       "        vertical-align: middle;\n",
       "    }\n",
       "\n",
       "    .dataframe tbody tr th {\n",
       "        vertical-align: top;\n",
       "    }\n",
       "\n",
       "    .dataframe thead th {\n",
       "        text-align: right;\n",
       "    }\n",
       "</style>\n",
       "<table border=\"1\" class=\"dataframe\">\n",
       "  <thead>\n",
       "    <tr style=\"text-align: right;\">\n",
       "      <th></th>\n",
       "      <th>user_id</th>\n",
       "      <th>anime_id</th>\n",
       "      <th>rating</th>\n",
       "    </tr>\n",
       "  </thead>\n",
       "  <tbody>\n",
       "    <tr>\n",
       "      <th>0</th>\n",
       "      <td>1</td>\n",
       "      <td>20</td>\n",
       "      <td>-1</td>\n",
       "    </tr>\n",
       "    <tr>\n",
       "      <th>1</th>\n",
       "      <td>1</td>\n",
       "      <td>24</td>\n",
       "      <td>-1</td>\n",
       "    </tr>\n",
       "    <tr>\n",
       "      <th>2</th>\n",
       "      <td>1</td>\n",
       "      <td>79</td>\n",
       "      <td>-1</td>\n",
       "    </tr>\n",
       "    <tr>\n",
       "      <th>3</th>\n",
       "      <td>1</td>\n",
       "      <td>226</td>\n",
       "      <td>-1</td>\n",
       "    </tr>\n",
       "    <tr>\n",
       "      <th>4</th>\n",
       "      <td>1</td>\n",
       "      <td>241</td>\n",
       "      <td>-1</td>\n",
       "    </tr>\n",
       "  </tbody>\n",
       "</table>\n",
       "</div>"
      ],
      "text/plain": [
       "   user_id  anime_id  rating\n",
       "0        1        20      -1\n",
       "1        1        24      -1\n",
       "2        1        79      -1\n",
       "3        1       226      -1\n",
       "4        1       241      -1"
      ]
     },
     "execution_count": 8,
     "metadata": {},
     "output_type": "execute_result"
    }
   ],
   "source": [
    "rating_df.head()"
   ]
  },
  {
   "cell_type": "code",
   "execution_count": 12,
   "id": "4988d62c-6703-4a56-a0a0-17a92b37931f",
   "metadata": {},
   "outputs": [
    {
     "name": "stdout",
     "output_type": "stream",
     "text": [
      "\n",
      "Missing values in anime data:\n",
      "anime_id      0\n",
      "name          0\n",
      "genre        62\n",
      "type         25\n",
      "episodes      0\n",
      "rating      230\n",
      "members       0\n",
      "dtype: int64\n"
     ]
    }
   ],
   "source": [
    "# Check for missing values\n",
    "print(\"\\nMissing values in anime data:\")\n",
    "print(anime_df.isnull().sum())"
   ]
  },
  {
   "cell_type": "code",
   "execution_count": 14,
   "id": "c29ee9be-6bb4-43ce-bf74-56358d4093c5",
   "metadata": {},
   "outputs": [
    {
     "name": "stdout",
     "output_type": "stream",
     "text": [
      "\n",
      "Missing values in rating data:\n",
      "user_id     0\n",
      "anime_id    0\n",
      "rating      0\n",
      "dtype: int64\n"
     ]
    }
   ],
   "source": [
    "print(\"\\nMissing values in rating data:\")\n",
    "print(rating_df.isnull().sum())"
   ]
  },
  {
   "cell_type": "code",
   "execution_count": 16,
   "id": "4b040266-6b3c-4587-8c39-05d69ebbef32",
   "metadata": {},
   "outputs": [],
   "source": [
    "# Drop rows with missing values in the anime dataset\n",
    "anime_df = anime_df.dropna()"
   ]
  },
  {
   "cell_type": "code",
   "execution_count": 18,
   "id": "f6a5a8ea-bb91-4aaf-a345-125b80bbd14e",
   "metadata": {},
   "outputs": [
    {
     "name": "stdout",
     "output_type": "stream",
     "text": [
      "Filtered rating data shape: (898259, 3)\n"
     ]
    }
   ],
   "source": [
    "# Filter out users and anime with too few interactions\n",
    "min_user_ratings = 50\n",
    "min_anime_ratings = 50\n",
    "\n",
    "user_counts = rating_df[\"user_id\"].value_counts()\n",
    "anime_counts = rating_df[\"anime_id\"].value_counts()\n",
    "\n",
    "rating_df = rating_df[rating_df[\"user_id\"].isin(user_counts[user_counts >= min_user_ratings].index)]\n",
    "rating_df = rating_df[rating_df[\"anime_id\"].isin(anime_counts[anime_counts >= min_anime_ratings].index)]\n",
    "\n",
    "print(f\"Filtered rating data shape: {rating_df.shape}\")"
   ]
  },
  {
   "cell_type": "code",
   "execution_count": 20,
   "id": "d647e604-4610-4b02-b8ea-cb0f4fe8fd49",
   "metadata": {},
   "outputs": [],
   "source": [
    "# Merge anime and rating data\n",
    "merged_df = pd.merge(rating_df, anime_df, on=\"anime_id\")"
   ]
  },
  {
   "cell_type": "code",
   "execution_count": 22,
   "id": "ef1ca7d6-7b2a-49a6-888e-d87c8b439ef0",
   "metadata": {},
   "outputs": [
    {
     "name": "stdout",
     "output_type": "stream",
     "text": [
      "   user_id  anime_id  rating_x                       name  \\\n",
      "0        1        20        -1                     Naruto   \n",
      "1        1        24        -1              School Rumble   \n",
      "2        1        79        -1                   Shuffle!   \n",
      "3        1       226        -1                 Elfen Lied   \n",
      "4        1       241        -1  Girls Bravo: First Season   \n",
      "\n",
      "                                               genre type episodes  rating_y  \\\n",
      "0  Action, Comedy, Martial Arts, Shounen, Super P...   TV      220      7.81   \n",
      "1                   Comedy, Romance, School, Shounen   TV       26      8.06   \n",
      "2  Comedy, Drama, Ecchi, Fantasy, Harem, Magic, R...   TV       24      7.31   \n",
      "3  Action, Drama, Horror, Psychological, Romance,...   TV       13      7.85   \n",
      "4     Comedy, Ecchi, Fantasy, Harem, Romance, School   TV       11      6.69   \n",
      "\n",
      "   members  \n",
      "0   683297  \n",
      "1   178553  \n",
      "2   158772  \n",
      "3   623511  \n",
      "4    84395  \n"
     ]
    }
   ],
   "source": [
    "# Display the merged dataset\n",
    "print(merged_df.head())"
   ]
  },
  {
   "cell_type": "code",
   "execution_count": 24,
   "id": "e7ccd5e7-548e-44b3-8b29-253f5c6aeb97",
   "metadata": {},
   "outputs": [],
   "source": [
    "from surprise.model_selection import train_test_split\n",
    "from surprise import Dataset, Reader"
   ]
  },
  {
   "cell_type": "code",
   "execution_count": 26,
   "id": "761d76dc-d32d-48e1-bec7-707de19ac7e3",
   "metadata": {},
   "outputs": [],
   "source": [
    "# Define the rating scale\n",
    "reader = Reader(rating_scale=(1, 10))"
   ]
  },
  {
   "cell_type": "code",
   "execution_count": 28,
   "id": "af225864-cc83-4f97-98d7-c7325b4e38d6",
   "metadata": {},
   "outputs": [],
   "source": [
    "# Load the dataset into Surprise\n",
    "data = Dataset.load_from_df(rating_df[[\"user_id\", \"anime_id\", \"rating\"]], reader)"
   ]
  },
  {
   "cell_type": "code",
   "execution_count": 30,
   "id": "70d54c5c-249b-4cf6-b9c8-80964a05cbd7",
   "metadata": {},
   "outputs": [],
   "source": [
    "# Split the dataset into training and testing sets\n",
    "trainset, testset = train_test_split(data, test_size=0.2, random_state=42)"
   ]
  },
  {
   "cell_type": "code",
   "execution_count": 32,
   "id": "a5aaf99b-4947-4747-be1b-4d22ace0ff40",
   "metadata": {},
   "outputs": [],
   "source": [
    "from surprise import SVD\n",
    "from surprise import accuracy"
   ]
  },
  {
   "cell_type": "code",
   "execution_count": 34,
   "id": "6ff77df9-9af7-4e1d-bcd3-3fa08881f4c6",
   "metadata": {},
   "outputs": [],
   "source": [
    "# Initialize the SVD model\n",
    "model = SVD(n_factors=50, n_epochs=20, lr_all=0.005, reg_all=0.02)"
   ]
  },
  {
   "cell_type": "code",
   "execution_count": 36,
   "id": "b39f77b6-ddb8-4db3-8155-402d56d50eb8",
   "metadata": {},
   "outputs": [
    {
     "data": {
      "text/plain": [
       "<surprise.prediction_algorithms.matrix_factorization.SVD at 0x2180c04dd00>"
      ]
     },
     "execution_count": 36,
     "metadata": {},
     "output_type": "execute_result"
    }
   ],
   "source": [
    "# Train the model on the training set\n",
    "model.fit(trainset)"
   ]
  },
  {
   "cell_type": "code",
   "execution_count": 38,
   "id": "9a0b0998-3a77-4ca3-ad7a-e9da1a8111f6",
   "metadata": {},
   "outputs": [],
   "source": [
    "# Make predictions on the test set\n",
    "predictions = model.test(testset)"
   ]
  },
  {
   "cell_type": "code",
   "execution_count": 40,
   "id": "4f7b32d8-770c-4e9e-8e1a-658fa22d598f",
   "metadata": {},
   "outputs": [
    {
     "name": "stdout",
     "output_type": "stream",
     "text": [
      "RMSE: 2.2097\n",
      "MAE:  1.5344\n",
      "RMSE: 2.2097174756319307, MAE: 1.5343790205478307\n"
     ]
    }
   ],
   "source": [
    "# Evaluate the model\n",
    "rmse = accuracy.rmse(predictions)\n",
    "mae = accuracy.mae(predictions)\n",
    "print(f\"RMSE: {rmse}, MAE: {mae}\")"
   ]
  },
  {
   "cell_type": "code",
   "execution_count": 42,
   "id": "169debcd-293f-409a-8b19-c3c23b635149",
   "metadata": {},
   "outputs": [],
   "source": [
    "#Generate Recommendations"
   ]
  },
  {
   "cell_type": "code",
   "execution_count": 46,
   "id": "e7e6ef0a-e196-4e75-ad08-3539d8203828",
   "metadata": {},
   "outputs": [],
   "source": [
    "def get_top_n_recommendations(user_id, model, n=10):\n",
    "    # Get a list of all anime IDs\n",
    "    anime_ids = rating_df[\"anime_id\"].unique()\n",
    "\n",
    "    # Predict ratings for all anime\n",
    "    user_predictions = [model.predict(user_id, anime_id) for anime_id in anime_ids]\n",
    "\n",
    "    # Sort predictions by estimated rating\n",
    "    top_n = sorted(user_predictions, key=lambda x: x.est, reverse=True)[:n]\n",
    "\n",
    "    # Return the top-N recommendations\n",
    "    return top_n"
   ]
  },
  {
   "cell_type": "code",
   "execution_count": 48,
   "id": "dfbd6087-0c1c-4d67-8185-f52a6fbb0a20",
   "metadata": {},
   "outputs": [
    {
     "name": "stdout",
     "output_type": "stream",
     "text": [
      "1. Anime: High School DxD, Genre: Comedy, Demons, Ecchi, Harem, Romance, School, Predicted Rating: 6.01\n",
      "2. Anime: High School DxD New, Genre: Action, Comedy, Demons, Ecchi, Harem, Romance, School, Predicted Rating: 5.75\n",
      "3. Anime: Sword Art Online, Genre: Action, Adventure, Fantasy, Game, Romance, Predicted Rating: 5.04\n",
      "4. Anime: Highschool of the Dead, Genre: Action, Ecchi, Horror, Supernatural, Predicted Rating: 4.11\n",
      "5. Anime: Kino no Tabi: The Beautiful World - Tou no Kuni, Genre: Adventure, Fantasy, Psychological, Predicted Rating: 3.05\n",
      "6. Anime: Koe de Oshigoto! The Animation, Genre: Comedy, Ecchi, Seinen, Predicted Rating: 2.90\n",
      "7. Anime: Evangelion: 3.0 You Can (Not) Redo, Genre: Action, Mecha, Sci-Fi, Predicted Rating: 2.88\n",
      "8. Anime: Fullmetal Alchemist: Premium Collection, Genre: Comedy, Fantasy, Shounen, Predicted Rating: 2.61\n",
      "9. Anime: Baby Steps 2nd Season, Genre: Romance, School, Shounen, Sports, Predicted Rating: 2.54\n",
      "10. Anime: Summer Wars, Genre: Comedy, Sci-Fi, Predicted Rating: 2.53\n"
     ]
    }
   ],
   "source": [
    "# Example: Get top 10 recommendations for user_id = 1\n",
    "user_id = 1\n",
    "top_n = get_top_n_recommendations(user_id, model, n=10)\n",
    "\n",
    "# Display the recommendations\n",
    "for i, pred in enumerate(top_n):\n",
    "    anime_info = anime_df[anime_df[\"anime_id\"] == pred.iid].iloc[0]\n",
    "    print(f\"{i+1}. Anime: {anime_info['name']}, Genre: {anime_info['genre']}, Predicted Rating: {pred.est:.2f}\")"
   ]
  },
  {
   "cell_type": "code",
   "execution_count": 50,
   "id": "7916703a-92e8-4fe5-aac6-341c694318b4",
   "metadata": {},
   "outputs": [],
   "source": [
    "import matplotlib.pyplot as plt"
   ]
  },
  {
   "cell_type": "code",
   "execution_count": 52,
   "id": "75dab5a3-8562-4e39-8d76-5b7c697044ce",
   "metadata": {},
   "outputs": [],
   "source": [
    "# Extract anime names and predicted ratings\n",
    "anime_names = [anime_df[anime_df[\"anime_id\"] == pred.iid].iloc[0][\"name\"] for pred in top_n]\n",
    "pred_ratings = [pred.est for pred in top_n]"
   ]
  },
  {
   "cell_type": "code",
   "execution_count": 54,
   "id": "c0cc2eb3-4795-4d5c-bc94-39360aa4731c",
   "metadata": {},
   "outputs": [
    {
     "data": {
      "image/png": "[encoded data removed]",
      "text/plain": [
       "<Figure size 1000x600 with 1 Axes>"
      ]
     },
     "metadata": {},
     "output_type": "display_data"
    }
   ],
   "source": [
    "# Plot the recommendations\n",
    "plt.figure(figsize=(10, 6))\n",
    "plt.barh(anime_names, pred_ratings, color=\"skyblue\")\n",
    "plt.xlabel(\"Predicted Rating\")\n",
    "plt.title(f\"Top 10 Anime Recommendations for User {user_id}\")\n",
    "plt.gca().invert_yaxis()  # Invert y-axis to show the highest rating at the top\n",
    "plt.show()"
   ]
  },
  {
   "cell_type": "code",
   "execution_count": 92,
   "id": "98ceb4cd-98ad-4fea-a3dd-6c0f7b897a1c",
   "metadata": {},
   "outputs": [
    {
     "name": "stdout",
     "output_type": "stream",
     "text": [
      "1. Anime: Gintama&#039;, Genre: Action, Comedy, Historical, Parody, Samurai, Sci-Fi, Shounen, Predicted Rating: 10.00\n",
      "2. Anime: Kimi no Na wa., Genre: Drama, Romance, School, Supernatural, Predicted Rating: 10.00\n",
      "3. Anime: Kara no Kyoukai 7: Satsujin Kousatsu (Kou), Genre: Action, Mystery, Romance, Supernatural, Thriller, Predicted Rating: 9.54\n",
      "4. Anime: Barakamon, Genre: Comedy, Slice of Life, Predicted Rating: 9.51\n",
      "5. Anime: Sennen Joyuu, Genre: Action, Adventure, Drama, Fantasy, Historical, Romance, Predicted Rating: 9.32\n",
      "6. Anime: Hunter x Hunter (2011), Genre: Action, Adventure, Shounen, Super Power, Predicted Rating: 9.21\n",
      "7. Anime: Ghost in the Shell: Stand Alone Complex 2nd GIG, Genre: Action, Mecha, Military, Mystery, Police, Sci-Fi, Seinen, Predicted Rating: 9.14\n",
      "8. Anime: Kara no Kyoukai 5: Mujun Rasen, Genre: Action, Drama, Mystery, Romance, Supernatural, Thriller, Predicted Rating: 8.95\n",
      "9. Anime: Gintama°, Genre: Action, Comedy, Historical, Parody, Samurai, Sci-Fi, Shounen, Predicted Rating: 8.94\n",
      "10. Anime: Suzumiya Haruhi no Shoushitsu, Genre: Comedy, Mystery, Romance, School, Sci-Fi, Supernatural, Predicted Rating: 8.88\n"
     ]
    }
   ],
   "source": [
    "# Example: Get top 10 recommendations for user_id = 5\n",
    "user_id = 5\n",
    "top_n = get_top_n_recommendations(user_id, model, n=10)\n",
    "\n",
    "# Display the recommendations\n",
    "for i, pred in enumerate(top_n):\n",
    "    anime_info = anime_df[anime_df[\"anime_id\"] == pred.iid].iloc[0]\n",
    "    print(f\"{i+1}. Anime: {anime_info['name']}, Genre: {anime_info['genre']}, Predicted Rating: {pred.est:.2f}\")"
   ]
  },
  {
   "cell_type": "code",
   "execution_count": 94,
   "id": "3ffdd985-41b7-4075-abba-ef8225ba0a55",
   "metadata": {},
   "outputs": [
    {
     "data": {
      "image/png": "[encoded data removed]",
      "text/plain": [
       "<Figure size 1000x600 with 1 Axes>"
      ]
     },
     "metadata": {},
     "output_type": "display_data"
    }
   ],
   "source": [
    "anime_names = [anime_df[anime_df[\"anime_id\"] == pred.iid].iloc[0][\"name\"] for pred in top_n]\n",
    "pred_ratings = [pred.est for pred in top_n]\n",
    "# Plot the recommendations\n",
    "plt.figure(figsize=(10, 6))\n",
    "plt.barh(anime_names, pred_ratings, color=\"skyblue\")\n",
    "plt.xlabel(\"Predicted Rating\")\n",
    "plt.title(f\"Top 10 Anime Recommendations for User {user_id}\")\n",
    "plt.gca().invert_yaxis()  # Invert y-axis to show the highest rating at the top\n",
    "plt.show()"
   ]
  },
  {
   "cell_type": "code",
   "execution_count": 96,
   "id": "144359fb-d1f6-4733-9b84-708acfac0786",
   "metadata": {},
   "outputs": [
    {
     "data": {
      "text/plain": [
       "['anime_recommendation_model.pkl']"
      ]
     },
     "execution_count": 96,
     "metadata": {},
     "output_type": "execute_result"
    }
   ],
   "source": [
    "import joblib\n",
    "\n",
    "# Save the model\n",
    "joblib.dump(model, \"anime_recommendation_model.pkl\")"
   ]
  },
  {
   "cell_type": "code",
   "execution_count": null,
   "id": "ea7bf99f-be9f-48b8-8739-d4146821e915",
   "metadata": {},
   "outputs": [],
   "source": []
  }
 ],
 "metadata": {
  "kernelspec": {
   "display_name": "Python [conda env:base] *",
   "language": "python",
   "name": "conda-base-py"
  },
  "language_info": {
   "codemirror_mode": {
    "name": "ipython",
    "version": 3
   },
   "file_extension": ".py",
   "mimetype": "text/x-python",
   "name": "python",
   "nbconvert_exporter": "python",
   "pygments_lexer": "ipython3",
   "version": "3.12.3"
  }
 },
 "nbformat": 4,
 "nbformat_minor": 5
}
